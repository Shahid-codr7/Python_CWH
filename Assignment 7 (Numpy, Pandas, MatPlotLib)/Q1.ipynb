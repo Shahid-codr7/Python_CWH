{
 "cells": [
  {
   "cell_type": "code",
   "execution_count": 10,
   "id": "b1cadfbb-33bf-48da-931c-b10b876eb7ab",
   "metadata": {},
   "outputs": [],
   "source": [
    "import pandas as pd\n",
    "import numpy as np"
   ]
  },
  {
   "cell_type": "code",
   "execution_count": 11,
   "id": "cffe66d5-5c95-49d4-8ac4-d34cab92bbfb",
   "metadata": {},
   "outputs": [
    {
     "name": "stdout",
     "output_type": "stream",
     "text": [
      "[[ 1  2  3  4]\n",
      " [ 5  6  7  8]\n",
      " [ 9 10 11 12]]\n"
     ]
    }
   ],
   "source": [
    "Arr=np.array([[j for j in range(i,i+4)] for i in range(1,12,4)])\n",
    "print(Arr)"
   ]
  },
  {
   "cell_type": "code",
   "execution_count": 12,
   "id": "6283fc35-52e1-427b-bfc1-d94a64f27710",
   "metadata": {},
   "outputs": [
    {
     "name": "stdout",
     "output_type": "stream",
     "text": [
      "[1 2 3 4 5 6]\n"
     ]
    }
   ],
   "source": [
    "y=np.array([i for i in range(1,7)])\n",
    "print(y)"
   ]
  },
  {
   "cell_type": "code",
   "execution_count": 13,
   "id": "111cacc1-0d24-4960-835e-77b8bb03621e",
   "metadata": {},
   "outputs": [
    {
     "name": "stdout",
     "output_type": "stream",
     "text": [
      "8\n",
      "11\n",
      "7\n"
     ]
    }
   ],
   "source": [
    "print(str(Arr[1,3])+'\\n'+str(Arr[2,2])+'\\n'+str(Arr[1,2]))"
   ]
  },
  {
   "cell_type": "code",
   "execution_count": 14,
   "id": "b904ed65-a953-46e5-91f3-4c00c2932a8d",
   "metadata": {},
   "outputs": [
    {
     "name": "stdout",
     "output_type": "stream",
     "text": [
      "[1 2 3]\n",
      "[4 5 6]\n"
     ]
    }
   ],
   "source": [
    "print(y[:3])\n",
    "print(y[-3:])"
   ]
  },
  {
   "cell_type": "code",
   "execution_count": 15,
   "id": "801a7ca0-625c-42e7-b9f0-03059e9ca0ba",
   "metadata": {},
   "outputs": [
    {
     "name": "stdout",
     "output_type": "stream",
     "text": [
      "2D Matrix:\n",
      "No. of elements: 12\n",
      "Dimensions: (Rows,Colums): (3, 4)\n"
     ]
    }
   ],
   "source": [
    "print('2D Matrix:')\n",
    "print('No. of elements:',len(Arr)*len(Arr[0]))\n",
    "print('Dimensions: (Rows,Colums):',np.shape(Arr))"
   ]
  },
  {
   "cell_type": "raw",
   "id": "87d05f3a-c4a7-4f50-9e13-e3cd2c30cbcd",
   "metadata": {},
   "source": [
    "# OR"
   ]
  },
  {
   "cell_type": "code",
   "execution_count": 16,
   "id": "e625a04b-a49a-4b0e-a13c-eef0985a50f3",
   "metadata": {},
   "outputs": [
    {
     "name": "stdout",
     "output_type": "stream",
     "text": [
      "class:  ndarray\n",
      "shape:  (3, 4)\n",
      "strides:  (16, 4)\n",
      "itemsize:  4\n",
      "aligned:  True\n",
      "contiguous:  True\n",
      "fortran:  False\n",
      "data pointer: 0x1fb22875eb0\n",
      "byteorder:  little\n",
      "byteswap:  False\n",
      "type: int32\n",
      "None\n"
     ]
    }
   ],
   "source": [
    "print(np.info(Arr))"
   ]
  },
  {
   "cell_type": "code",
   "execution_count": 29,
   "id": "206fecfe-9c28-48f0-9e93-a247abbbdd58",
   "metadata": {},
   "outputs": [
    {
     "name": "stdout",
     "output_type": "stream",
     "text": [
      "Y:\n",
      "No. of elements: 6\n",
      "___________________\n",
      "Shape: (6,)\n",
      "Size: 6\n"
     ]
    }
   ],
   "source": [
    "print('Y:')\n",
    "print('No. of elements:',len(y))\n",
    "print('___________________')\n",
    "print('Shape:',y.shape)\n",
    "print('Size:',y.size)"
   ]
  },
  {
   "cell_type": "code",
   "execution_count": 31,
   "id": "53c68017-7f41-44af-9ee5-c87e7edd413e",
   "metadata": {},
   "outputs": [
    {
     "name": "stdout",
     "output_type": "stream",
     "text": [
      "[[11 12 13 14]\n",
      " [15 16 17 18]\n",
      " [19 20 21 22]]\n"
     ]
    }
   ],
   "source": [
    "X=Arr+10\n",
    "print(X)"
   ]
  },
  {
   "cell_type": "code",
   "execution_count": 33,
   "id": "dedf2674-8147-4947-b457-f1a6d3a92766",
   "metadata": {},
   "outputs": [
    {
     "name": "stdout",
     "output_type": "stream",
     "text": [
      "Arr:\n",
      "12\n",
      "1\n",
      "Y:\n",
      "6\n",
      "1\n"
     ]
    }
   ],
   "source": [
    "print('Arr:')\n",
    "print(np.max(Arr))\n",
    "print(np.min(Arr))\n",
    "print('Y:')\n",
    "print(np.max(y))\n",
    "print(np.min(y))"
   ]
  },
  {
   "cell_type": "code",
   "execution_count": 35,
   "id": "123da4fb-b60c-4a43-abff-3152b774ccd7",
   "metadata": {},
   "outputs": [
    {
     "name": "stdout",
     "output_type": "stream",
     "text": [
      "6.5\n",
      "3.452052529534663\n",
      "11.916666666666666\n"
     ]
    }
   ],
   "source": [
    "print(np.average(Arr))\n",
    "print(np.std(Arr))\n",
    "print(np.var(Arr))"
   ]
  },
  {
   "cell_type": "code",
   "execution_count": 37,
   "id": "fe950084-8a4f-4e32-b7c7-269161a043bc",
   "metadata": {},
   "outputs": [
    {
     "name": "stdout",
     "output_type": "stream",
     "text": [
      "3.5\n",
      "1.707825127659933\n",
      "2.9166666666666665\n"
     ]
    }
   ],
   "source": [
    "print(np.average(y))\n",
    "print(np.std(y))\n",
    "print(np.var(y))"
   ]
  },
  {
   "cell_type": "code",
   "execution_count": 39,
   "id": "307c66d3-cb04-4af4-8d17-495800ac3bbd",
   "metadata": {},
   "outputs": [
    {
     "name": "stdout",
     "output_type": "stream",
     "text": [
      "[[ 1  2  3  4  5  6]\n",
      " [ 7  8  9 10 11 12]]\n"
     ]
    }
   ],
   "source": [
    "print(Arr.reshape(2,6))"
   ]
  },
  {
   "cell_type": "code",
   "execution_count": 41,
   "id": "a57e5799-ac42-4b12-8f37-b644fb169cda",
   "metadata": {},
   "outputs": [
    {
     "name": "stdout",
     "output_type": "stream",
     "text": [
      "[[ 1  5  9]\n",
      " [ 2  6 10]\n",
      " [ 3  7 11]\n",
      " [ 4  8 12]]\n",
      "[1 2 3 4 5 6]\n"
     ]
    }
   ],
   "source": [
    "print(np.transpose(Arr))\n",
    "print(np.transpose(y))"
   ]
  },
  {
   "cell_type": "code",
   "execution_count": 43,
   "id": "02e18c8b-42e7-4c7a-921f-2d32c1f0c801",
   "metadata": {},
   "outputs": [
    {
     "name": "stdout",
     "output_type": "stream",
     "text": [
      "[ 1  2  3  4  5  6  7  8  9 10 11 12]\n"
     ]
    }
   ],
   "source": [
    "print(Arr.flatten())"
   ]
  },
  {
   "cell_type": "code",
   "execution_count": 45,
   "id": "7c8ba191-e27e-4e66-bb39-d4b80e739617",
   "metadata": {},
   "outputs": [
    {
     "name": "stdout",
     "output_type": "stream",
     "text": [
      "Rank of P: 3\n",
      "Determinant of P: -8.999999999999998\n",
      "Diagonal of P: [1 4 7]\n",
      "Trace of P: 12\n",
      "Eigenvalues of P: [10.59900683 -0.45701438  1.85800755]\n",
      "Eigenvectors of P:\n",
      "[[-0.55902488 -0.95323847 -0.18562955]\n",
      " [-0.55289125 -0.10432388 -0.88924337]\n",
      " [-0.61790165  0.2836423   0.41807643]]\n"
     ]
    }
   ],
   "source": [
    "P=np.array([[1,3,6],[1,4,5],[2,2,7]])\n",
    "# a. Find and display the rank of P\n",
    "rank = np.linalg.matrix_rank(P)\n",
    "\n",
    "# b. Find and display the determinant of P\n",
    "determinant = np.linalg.det(P)\n",
    "\n",
    "# c. Find and display the diagonal of P\n",
    "diagonal = np.diagonal(P)\n",
    "\n",
    "# d. Find and display the trace of P\n",
    "trace = np.trace(P)\n",
    "\n",
    "# e. Find the eigenvalues and eigenvectors of P\n",
    "eigenvalues, eigenvectors = np.linalg.eig(P)\n",
    "\n",
    "# Display the results\n",
    "print(f\"Rank of P: {rank}\")\n",
    "print(f\"Determinant of P: {determinant}\")\n",
    "print(f\"Diagonal of P: {diagonal}\")\n",
    "print(f\"Trace of P: {trace}\")\n",
    "print(f\"Eigenvalues of P: {eigenvalues}\")\n",
    "print(\"Eigenvectors of P:\")\n",
    "print(eigenvectors)\n"
   ]
  },
  {
   "cell_type": "code",
   "execution_count": 47,
   "id": "ae696c96-503e-43f0-9522-194b7498fd33",
   "metadata": {},
   "outputs": [
    {
     "name": "stdout",
     "output_type": "stream",
     "text": [
      "Dot Product (y.z): [ 2  6 18  8 25 12]\n"
     ]
    }
   ],
   "source": [
    "z=np.array([2,3,6,2,5,2])\n",
    "print('Dot Product (y.z):',(y*z))"
   ]
  },
  {
   "cell_type": "code",
   "execution_count": 49,
   "id": "ef160467-6b9b-457d-bf53-1e3cc5484cd3",
   "metadata": {},
   "outputs": [
    {
     "name": "stdout",
     "output_type": "stream",
     "text": [
      "[[ 5  9 13]\n",
      " [ 6  9  7]\n",
      " [ 5  6 13]]\n",
      "[[-3 -3 -1]\n",
      " [-4 -1  3]\n",
      " [-1 -2  1]]\n",
      "[[ 4 18 42]\n",
      " [ 5 20 10]\n",
      " [ 6  8 42]]\n",
      "[[-2.          1.          1.        ]\n",
      " [-0.33333333  0.55555556 -0.11111111]\n",
      " [ 0.66666667 -0.44444444 -0.11111111]]\n",
      "[[-1.04761905  0.38095238  1.0952381 ]\n",
      " [ 1.14285714 -0.14285714 -1.28571429]\n",
      " [-0.23809524 -0.0952381   0.47619048]]\n"
     ]
    }
   ],
   "source": [
    "Q=np.array([[4,6,7],[5,5,2],[3,4,6]])\n",
    "print(P+Q)\n",
    "print(P-Q)\n",
    "print(P*Q)\n",
    "print(np.linalg.inv(P))\n",
    "print(np.linalg.inv(Q))"
   ]
  },
  {
   "cell_type": "code",
   "execution_count": 51,
   "id": "ff3e0c73-3962-4573-bba6-1da2988f0bfa",
   "metadata": {},
   "outputs": [
    {
     "name": "stdout",
     "output_type": "stream",
     "text": [
      "Uniform Distribution (10 numbers):\n",
      "[0.12520752 0.10115654 0.2597649  0.62786621 0.09649919 0.84400723\n",
      " 0.88023619 0.22105005 0.57066202 0.45357167]\n",
      "\n",
      "Gaussian Distribution (10 numbers):\n",
      "[ 0.52945321 -1.07917448  0.89761643 -0.15083407 -0.43119684  1.40473667\n",
      "  0.61821253 -0.34034696 -0.35834923  0.76171383]\n",
      "\n",
      "Logistic Distribution (10 numbers):\n",
      "[ 0.1642523  -1.044314   -2.93997439  0.16990402  0.63131274  0.87868103\n",
      "  0.66093065 -2.36789384 -0.44988469 -1.81477738]\n"
     ]
    }
   ],
   "source": [
    "uniform_random_numbers = np.random.uniform(low=0.0, high=1.0, size=10)\n",
    "gaussian_random_numbers = np.random.normal(loc=0.0, scale=1.0, size=10)\n",
    "logistic_random_numbers = np.random.logistic(loc=0.0, scale=1.0, size=10)\n",
    "print(\"Uniform Distribution (10 numbers):\")\n",
    "print(uniform_random_numbers)\n",
    "\n",
    "print(\"\\nGaussian Distribution (10 numbers):\")\n",
    "print(gaussian_random_numbers)\n",
    "\n",
    "print(\"\\nLogistic Distribution (10 numbers):\")\n",
    "print(logistic_random_numbers)"
   ]
  },
  {
   "cell_type": "code",
   "execution_count": null,
   "id": "88fb9f81-a47e-4ece-9a7d-ef2f7cdac791",
   "metadata": {},
   "outputs": [],
   "source": []
  }
 ],
 "metadata": {
  "kernelspec": {
   "display_name": "Python 3 (ipykernel)",
   "language": "python",
   "name": "python3"
  },
  "language_info": {
   "codemirror_mode": {
    "name": "ipython",
    "version": 3
   },
   "file_extension": ".py",
   "mimetype": "text/x-python",
   "name": "python",
   "nbconvert_exporter": "python",
   "pygments_lexer": "ipython3",
   "version": "3.12.4"
  }
 },
 "nbformat": 4,
 "nbformat_minor": 5
}
